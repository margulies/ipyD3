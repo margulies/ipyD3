{
 "metadata": {
  "name": "ipyD3stacked"
 },
 "nbformat": 3,
 "nbformat_minor": 0,
 "worksheets": [
  {
   "cells": [
    {
     "cell_type": "code",
     "collapsed": false,
     "input": [
      "from pandas import *\n",
      "from ipyD3 import *\n",
      "import ujson"
     ],
     "language": "python",
     "metadata": {},
     "outputs": [],
     "prompt_number": 111
    },
    {
     "cell_type": "code",
     "collapsed": false,
     "input": [
      "df = DataFrame(np.zeros(0,dtype=[('month','a3'), ('men','i4'), ('women','i4')]))"
     ],
     "language": "python",
     "metadata": {},
     "outputs": [],
     "prompt_number": 112
    },
    {
     "cell_type": "code",
     "collapsed": false,
     "input": [
      "df = df.append({'month':'Jan', 'men':20, 'women':13}, ignore_index=True)\n",
      "df = df.append({'month':'Feb', 'men':33, 'women':20}, ignore_index=True)\n",
      "df = df.append({'month':'Mar', 'men': 5, 'women':10}, ignore_index=True)\n",
      "df = df.append({'month':'Apr', 'men':15, 'women':22}, ignore_index=True)"
     ],
     "language": "python",
     "metadata": {},
     "outputs": [],
     "prompt_number": 113
    },
    {
     "cell_type": "code",
     "collapsed": false,
     "input": [
      "d3 = d3object(width=500,\n",
      "              height=300,\n",
      "              style='JFFigure',\n",
      "              number=1,\n",
      "              title='Marathon',\n",
      "              desc='Participation by gender')"
     ],
     "language": "python",
     "metadata": {},
     "outputs": [],
     "prompt_number": 114
    },
    {
     "cell_type": "code",
     "collapsed": false,
     "input": [
      "d3.addJs('''\n",
      "        var svg = d3.select(\"#\"+d3ObjId)\n",
      "                    .append(\"svg\")\n",
      "                    .attr(\"width\", width)\n",
      "                    .attr(\"height\", height)\n",
      "                    .append(\"g\").attr(\"id\", \"#\"+d3ObjId+'InnerG')\n",
      "\n",
      "        var margin = {top: 10, right: 30, bottom: 30, left: 60},\n",
      "        width = width - margin.left - margin.right,\n",
      "        height = height - margin.top - margin.bottom;\n",
      "\n",
      "        var df = eval(data)\n",
      "\n",
      "        var columntotals = df.map(function(r) {\n",
      "            return Object.keys(r).map(function(k) {return r[k];})\n",
      "                         .splice(2).reduce(function(a,b) {return a+b;});})\n",
      "\n",
      "        var y = d3.scale.linear()\n",
      "                  .domain([0, 100])\n",
      "                  .range([height, 0]);\n",
      "\n",
      "        var x = d3.scale.ordinal()\n",
      "                  .domain(df.map(function(r) {return r[Object.keys(df[0])[1]];}))\n",
      "                  .rangeBands([margin.left, width], 0.2, 0.2)\n",
      "\n",
      "        ybase = Array.apply(null, new Array(df.length)).map(Number.prototype.valueOf,0)\n",
      "\n",
      "        for (var j = 2; j < Object.keys(df[0]).length; j++) {\n",
      "            svg.append(\"g\").selectAll(\"rect\")\n",
      "               .data(df.map(function(r) {return r[Object.keys(df[0])[j]]}))\n",
      "             .enter().append(\"rect\")\n",
      "               .attr(\"x\", function(d, i) {return x(df[i][Object.keys(df[0])[1]]);})\n",
      "               .attr(\"y\", function(d, i) {return margin.top +\n",
      "                                          y((d+ybase[i]) * 100 / columntotals[i]);})\n",
      "               .attr(\"width\", x.rangeBand())\n",
      "               .attr(\"height\", function(d, i) {return height - y(d * 100 / columntotals[i]);})\n",
      "               .style(\"fill\", colors[j-2]);\n",
      "\n",
      "            ybase = ybase.map(function(v,i) { return v+df[i][Object.keys(df[0])[j]] })\n",
      "        }\n",
      "\n",
      "        svg.append(\"g\")\n",
      "           .attr(\"transform\", \"translate(\" + margin.left + \",\" + margin.top + \")\")\n",
      "           .call(d3.svg.axis().scale(y).orient(\"left\"));\n",
      "\n",
      "        svg.append(\"g\")\n",
      "           .attr(\"transform\", \"translate(0,\" + (height+margin.top) + \")\")\n",
      "           .call(d3.svg.axis().scale(x).orient(\"bottom\"));\n",
      "''')"
     ],
     "language": "python",
     "metadata": {},
     "outputs": [],
     "prompt_number": 115
    },
    {
     "cell_type": "code",
     "collapsed": false,
     "input": [
      "d3.addVar(data=ujson.dumps(df.to_records().tolist()).replace('\"','\\\\\"'),\n",
      "          colors=['Blue','Red'])"
     ],
     "language": "python",
     "metadata": {},
     "outputs": [],
     "prompt_number": 116
    },
    {
     "cell_type": "code",
     "collapsed": false,
     "input": [
      "html=d3.render(mode=('show','html'))"
     ],
     "language": "python",
     "metadata": {},
     "outputs": [
      {
       "html": [
        "<style>\n",
        "\n",
        "\n",
        "                    .d3Output{\n",
        "                        min-height: 1.2em;\n",
        "                        line-height: 1.2em;\n",
        "                        position: relative;\n",
        "                        font-size: 1em;\n",
        "                        padding: 5px 0;\n",
        "                    \n",
        "                        list-style: none;\n",
        "                        background: #fff;\n",
        "                        color: #000;\n",
        "                    }\n",
        "                    svg{\n",
        "                        color-rendering: optimizeQuality !important;\n",
        "                        shape-rendering: geometricPrecision !important;\n",
        "                        text-rendering: geometricPrecision !important;\n",
        "                    }\n",
        "                    .d3Output.header{\n",
        "                        text-align: center;\n",
        "                        font-weight: bold;\n",
        "                        border-bottom: none;\n",
        "                        font-size: 0.9em;\n",
        "                    \n",
        "                    }\n",
        "                    .d3Output.title{\n",
        "                        text-align: center;\n",
        "                        font-weight: bold;\n",
        "                        border-bottom: none;\n",
        "                        font-size: 1.2em;\n",
        "                    \n",
        "                    }\n",
        "                    .d3Output.description{\n",
        "                        font-size: 0.8em;\n",
        "                        text-align:justify;\n",
        "                        text-justify:inter-word;\n",
        "                        border-bottom: 1px solid #000;\n",
        "                    }\n",
        "                    .d3Output.description.panel{\n",
        "                        text-align: center;\n",
        "                    }\n",
        "                    svg, canvas {\n",
        "                        border-bottom: 1px solid #000;\n",
        "                        display: block;\n",
        "                        margin: 5px 0;\n",
        "                    }\n",
        "                    .d3Output.description.figure{\n",
        "                        border-bottom: none;\n",
        "                    }\n",
        "                    \n",
        "</style>\n",
        "<div id=\"id-a0cfc885-f02f-11e2-84ef-406c8f1ddb1e\" class=\"d3Output\"><svg width=\"500\" height=\"300\"><g id=\"#id-a0cfc885-f02f-11e2-84ef-406c8f1ddb1eInnerG\"><g><rect x=\"76.66666666666667\" y=\"112.42424242424241\" width=\"66.66666666666667\" height=\"157.5757575757576\" style=\"fill: #0000ff; \"></rect><rect x=\"160\" y=\"108.11320754716982\" width=\"66.66666666666667\" height=\"161.88679245283018\" style=\"fill: #0000ff; \"></rect><rect x=\"243.33333333333331\" y=\"183.33333333333331\" width=\"66.66666666666667\" height=\"86.66666666666669\" style=\"fill: #0000ff; \"></rect><rect x=\"326.6666666666667\" y=\"164.59459459459458\" width=\"66.66666666666667\" height=\"105.40540540540542\" style=\"fill: #0000ff; \"></rect></g><g><rect x=\"76.66666666666667\" y=\"10\" width=\"66.66666666666667\" height=\"102.42424242424244\" style=\"fill: #ff0000; \"></rect><rect x=\"160\" y=\"10\" width=\"66.66666666666667\" height=\"98.11320754716982\" style=\"fill: #ff0000; \"></rect><rect x=\"243.33333333333331\" y=\"10\" width=\"66.66666666666667\" height=\"173.33333333333334\" style=\"fill: #ff0000; \"></rect><rect x=\"326.6666666666667\" y=\"10\" width=\"66.66666666666667\" height=\"154.5945945945946\" style=\"fill: #ff0000; \"></rect></g><g transform=\"translate(60,10)\"><g class=\"tick major\" style=\"opacity: 1; \" transform=\"translate(0,260)\"><line x2=\"-6\" y2=\"0\"></line><text x=\"-9\" y=\"0\" dy=\".32em\" style=\"text-anchor: end; \">0</text></g><g class=\"tick major\" style=\"opacity: 1; \" transform=\"translate(0,234)\"><line x2=\"-6\" y2=\"0\"></line><text x=\"-9\" y=\"0\" dy=\".32em\" style=\"text-anchor: end; \">10</text></g><g class=\"tick major\" style=\"opacity: 1; \" transform=\"translate(0,208)\"><line x2=\"-6\" y2=\"0\"></line><text x=\"-9\" y=\"0\" dy=\".32em\" style=\"text-anchor: end; \">20</text></g><g class=\"tick major\" style=\"opacity: 1; \" transform=\"translate(0,182)\"><line x2=\"-6\" y2=\"0\"></line><text x=\"-9\" y=\"0\" dy=\".32em\" style=\"text-anchor: end; \">30</text></g><g class=\"tick major\" style=\"opacity: 1; \" transform=\"translate(0,156)\"><line x2=\"-6\" y2=\"0\"></line><text x=\"-9\" y=\"0\" dy=\".32em\" style=\"text-anchor: end; \">40</text></g><g class=\"tick major\" style=\"opacity: 1; \" transform=\"translate(0,130)\"><line x2=\"-6\" y2=\"0\"></line><text x=\"-9\" y=\"0\" dy=\".32em\" style=\"text-anchor: end; \">50</text></g><g class=\"tick major\" style=\"opacity: 1; \" transform=\"translate(0,104)\"><line x2=\"-6\" y2=\"0\"></line><text x=\"-9\" y=\"0\" dy=\".32em\" style=\"text-anchor: end; \">60</text></g><g class=\"tick major\" style=\"opacity: 1; \" transform=\"translate(0,77.99999999999997)\"><line x2=\"-6\" y2=\"0\"></line><text x=\"-9\" y=\"0\" dy=\".32em\" style=\"text-anchor: end; \">70</text></g><g class=\"tick major\" style=\"opacity: 1; \" transform=\"translate(0,52)\"><line x2=\"-6\" y2=\"0\"></line><text x=\"-9\" y=\"0\" dy=\".32em\" style=\"text-anchor: end; \">80</text></g><g class=\"tick major\" style=\"opacity: 1; \" transform=\"translate(0,26)\"><line x2=\"-6\" y2=\"0\"></line><text x=\"-9\" y=\"0\" dy=\".32em\" style=\"text-anchor: end; \">90</text></g><g class=\"tick major\" style=\"opacity: 1; \" transform=\"translate(0,0)\"><line x2=\"-6\" y2=\"0\"></line><text x=\"-9\" y=\"0\" dy=\".32em\" style=\"text-anchor: end; \">100</text></g><path class=\"domain\" d=\"M-6,0H0V260H-6\"></path></g><g transform=\"translate(0,270)\"><g class=\"tick major\" style=\"opacity: 1; \" transform=\"translate(110,0)\"><line y2=\"6\" x2=\"0\"></line><text y=\"9\" x=\"0\" dy=\".71em\" style=\"text-anchor: middle; \">Jan</text></g><g class=\"tick major\" style=\"opacity: 1; \" transform=\"translate(193.33333333333334,0)\"><line y2=\"6\" x2=\"0\"></line><text y=\"9\" x=\"0\" dy=\".71em\" style=\"text-anchor: middle; \">Feb</text></g><g class=\"tick major\" style=\"opacity: 1; \" transform=\"translate(276.66666666666663,0)\"><line y2=\"6\" x2=\"0\"></line><text y=\"9\" x=\"0\" dy=\".71em\" style=\"text-anchor: middle; \">Mar</text></g><g class=\"tick major\" style=\"opacity: 1; \" transform=\"translate(360,0)\"><line y2=\"6\" x2=\"0\"></line><text y=\"9\" x=\"0\" dy=\".71em\" style=\"text-anchor: middle; \">Apr</text></g><path class=\"domain\" d=\"M60,6V0H410V6\"></path></g></g></svg></div>\n",
        "<div class=\"d3Output description figure\" style=\"width: 500px\">\n",
        "                                    <b>Figure 1. Marathon.</b> Participation by gender</div>\n",
        "                                  \n",
        "\n"
       ],
       "output_type": "display_data"
      }
     ],
     "prompt_number": 117
    }
   ],
   "metadata": {}
  }
 ]
}